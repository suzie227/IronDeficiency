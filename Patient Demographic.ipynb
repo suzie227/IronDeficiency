{
 "cells": [
  {
   "cell_type": "code",
   "execution_count": null,
   "id": "8917f458",
   "metadata": {},
   "outputs": [],
   "source": [
    "import pandas as pd\n",
    "\n",
    "patient = pd.read_csv(\"Z:\\Ferretin Project\\Ferritin Project\\Patient.csv\")\n",
    "lab = pd.read_csv(\"Z:\\Ferretin Project\\Ferritin Project\\Lab.csv\")\n",
    "lab_patient_merged = pd.merge(patient, lab, on = \"Patient_ID\", how = 'inner')\n",
    "\n",
    "lab_patient_merged['Site_ID'] = lab_patient_merged['Site_ID_x'].combine_first(lab_patient_merged['Site_ID_y'])\n",
    "lab_patient_merged.drop(['Site_ID_x', 'Site_ID_y'], axis=1, inplace=True)\n",
    "\n",
    "lab_patient_merged['DateCreated'] = pd.to_datetime(lab_patient_merged['DateCreated'])\n",
    "lab_patient_merged['YearCreated'] = lab_patient_merged['DateCreated'].dt.year"
   ]
  },
  {
   "cell_type": "code",
   "execution_count": null,
   "id": "d3922d44",
   "metadata": {},
   "outputs": [],
   "source": [
    "#Sex distribution of the overall population before filter \n",
    "total_male = lab_patient_merged[lab_patient_merged['Sex'] == 'Male']['Patient_ID'].nunique()\n",
    "total_female = lab_patient_merged[lab_patient_merged['Sex'] == 'Female']['Patient_ID'].nunique()\n",
    "total_patients = lab_patient_merged['Patient_ID'].nunique()\n",
    "missing_gender_count = lab_patient_merged[lab_patient_merged['Sex'].isna()]['Patient_ID'].nunique()\n",
    "\n",
    "summary_data = {\n",
    "    'Sex': ['Female', 'Male', 'Other'],\n",
    "    'Total Count': [total_female, total_male, missing_gender_count],\n",
    "}\n",
    "\n",
    "summary_df = pd.DataFrame(summary_data)\n",
    "\n",
    "total_patients = total_female + total_male + missing_gender_count\n",
    "summary_df['Proportion'] = summary_df['Total Count'] / total_patients\n",
    "print(summary_df)"
   ]
  },
  {
   "cell_type": "code",
   "execution_count": null,
   "id": "93914735",
   "metadata": {},
   "outputs": [],
   "source": [
    "import numpy as np\n",
    "lab_patient_merged['DateCreated'] = pd.to_datetime(lab_patient_merged['DateCreated'])\n",
    "\n",
    "mask = ~lab_patient_merged[['DateCreated', 'BirthYear']].isnull().any(axis=1)\n",
    "lab_patient_merged['Age'] = np.nan\n",
    "lab_patient_merged.loc[mask, 'Age'] = (\n",
    "    (lab_patient_merged.loc[mask, 'DateCreated'] - \n",
    "    pd.to_datetime(lab_patient_merged.loc[mask, 'BirthYear'].astype(str) + '-06-01'))\n",
    "    .dt.days // 365\n",
    ")\n",
    "\n",
    "lab_patient_merged = lab_patient_merged[lab_patient_merged['Age'] >= 6]"
   ]
  },
  {
   "cell_type": "code",
   "execution_count": null,
   "id": "8dc9ed14",
   "metadata": {},
   "outputs": [],
   "source": [
    "ferritin_lab = lab_patient_merged[lab_patient_merged['Code_calc'] == \"2276-4\"]\n",
    "ferritin_lab_short = ferritin_lab[['Patient_ID', 'Sex', 'Site_ID', 'TestResult_calc', 'DateCreated', 'YearCreated', 'Age']].copy()"
   ]
  },
  {
   "cell_type": "code",
   "execution_count": null,
   "id": "01c1b512",
   "metadata": {},
   "outputs": [],
   "source": [
    "total_unique_patients = ferritin_lab_short['Patient_ID'].nunique()\n",
    "print(\"Total Number of Unique Patients:\", total_unique_patients)\n",
    "\n",
    "#Tally by sex\n",
    "female_count = ferritin_lab_short[ferritin_lab_short['Sex'] == 'Female']['Patient_ID'].nunique()\n",
    "male_count = ferritin_lab_short[ferritin_lab_short['Sex'] == 'Male']['Patient_ID'].nunique()\n",
    "missing_gender_count = total_unique_patients - (female_count + male_count)\n",
    "\n",
    "print(\"Total Number of Female:\", female_count, \"Total Number of Male:\", male_count, \"Total Number of Missing/Unspecified Gender:\", missing_gender_count)\n"
   ]
  },
  {
   "cell_type": "code",
   "execution_count": null,
   "id": "21072c5f",
   "metadata": {},
   "outputs": [],
   "source": [
    "Grouped_year_sex = ferritin_lab_short.groupby(['YearCreated', 'Sex'])['Patient_ID'].nunique().reset_index()\n",
    "Grouped_year_sex = Grouped_year_sex.rename(columns={'Patient_ID': 'Count'})\n",
    "Grouped_year_sex['TotalCount'] = Grouped_year_sex.groupby('YearCreated')['Count'].transform('sum')\n",
    "Grouped_year_sex['Proportion'] = Grouped_year_sex['Count'] / Grouped_year_sex['TotalCount']\n",
    "print(Grouped_year_sex)"
   ]
  },
  {
   "cell_type": "code",
   "execution_count": null,
   "id": "d9bd5a26",
   "metadata": {},
   "outputs": [],
   "source": [
    "unique_age_per_patient = ferritin_lab_short.groupby(['YearCreated', 'Patient_ID'])['Age'].first().reset_index()\n",
    "import matplotlib.pyplot as plt\n",
    "\n",
    "for year in unique_age_per_patient['YearCreated'].unique():\n",
    "    plt.hist(unique_age_per_patient[unique_age_per_patient['YearCreated'] == year]['Age'], bins=20, alpha=0.7, label=f\"Year {year}\")\n",
    "    \n",
    "plt.title('Age Distribution by Year')\n",
    "plt.xlabel('Age')\n",
    "plt.ylabel('Number of Patients')\n",
    "plt.legend(loc=\"upper right\")\n",
    "plt.show()\n"
   ]
  },
  {
   "cell_type": "code",
   "execution_count": null,
   "id": "5eb3d71b",
   "metadata": {},
   "outputs": [],
   "source": [
    "unique_age_per_patient = ferritin_lab_short.groupby(['YearCreated', 'Patient_ID'])['Age'].first().reset_index()\n",
    "mean_age_per_year = unique_age_per_patient.groupby('YearCreated')['Age'].mean()\n",
    "std_age_per_year = unique_age_per_patient.groupby('YearCreated')['Age'].std()\n",
    "\n",
    "data = {\n",
    "    'Mean Age': mean_age_per_year,\n",
    "    'Sample SD Age': std_age_per_year\n",
    "}\n",
    "summary_df = pd.DataFrame(data)\n",
    "\n",
    "print(summary_df)"
   ]
  },
  {
   "cell_type": "code",
   "execution_count": null,
   "id": "1aa8bb6b",
   "metadata": {},
   "outputs": [],
   "source": [
    "# Since data is longitudinal, just doing mean of overall dataset may have patient with multiple encounters overrepresented in the dataset for final mean. Therefore, took mean of each patient's age to represent their age most accurately. Then took range, mean, and median of the all of the patients to best represent study population. \n",
    "mean_age_per_patient_year = ferritin_lab_short.groupby(['YearCreated', 'Patient_ID'])['Age'].mean().reset_index()\n",
    "patient_aggregated_data = mean_age_per_patient_year.groupby('Patient_ID')['Age'].agg(['mean', 'median']).reset_index()\n",
    "overall_mean_age = patient_aggregated_data['mean'].mean()\n",
    "overall_median_age = patient_aggregated_data['median'].median()\n",
    "\n",
    "std_mean_age = patient_aggregated_data['mean'].std()\n",
    "iqr_median_age = np.percentile(patient_aggregated_data['median'], 75) - np.percentile(patient_aggregated_data['median'], 25)\n",
    "\n",
    "print(\"Overall Mean Age:\", overall_mean_age)\n",
    "print(\"Standard Deviation of Mean Age:\", std_mean_age)\n",
    "print(\"Overall Median Age:\", overall_median_age)\n",
    "print(\"IQR Median Age:\", iqr_median_age)\n",
    "print(\"Min Age:\", ferritin_lab['Age'].min(), \"Max Age:\", ferritin_lab['Age'].max())\n",
    "\n"
   ]
  },
  {
   "cell_type": "code",
   "execution_count": null,
   "id": "7551bfed",
   "metadata": {},
   "outputs": [],
   "source": [
    "total_female = ferritin_lab_short[ferritin_lab_short['Sex'] == 'Female']['Patient_ID'].nunique()\n",
    "total_male = ferritin_lab_short[ferritin_lab_short['Sex'] == 'Male']['Patient_ID'].nunique()\n",
    "missing_gender_count = ferritin_lab_short[ferritin_lab_short['Sex'].isna()]['Patient_ID'].nunique()\n",
    "\n",
    "# Create a DataFrame for the summary\n",
    "summary_data = {\n",
    "    'Sex': ['Female', 'Male', 'Other'],\n",
    "    'Total Count': [total_female, total_male, missing_gender_count],\n",
    "}\n",
    "\n",
    "summary_df = pd.DataFrame(summary_data)\n",
    "\n",
    "total_patients = total_female + total_male + missing_gender_count\n",
    "summary_df['Proportion'] = summary_df['Total Count'] / total_patients\n",
    "print(summary_df)\n"
   ]
  },
  {
   "cell_type": "code",
   "execution_count": null,
   "id": "68234200",
   "metadata": {},
   "outputs": [],
   "source": [
    "rural = pd.read_csv(\"Z:\\Ferretin Project\\Ferritin Project\\Site.csv\")\n",
    "\n",
    "patient_demo_rural = pd.merge(rural, ferritin_lab_short, on = 'Site_ID', how='inner')\n",
    "unique_patients_by_urban_rural = patient_demo_rural.groupby('UrbanRural')['Patient_ID'].nunique()\n",
    "\n",
    "total_urban = patient_demo_rural[patient_demo_rural['UrbanRural'] == 'U']['Patient_ID'].nunique()\n",
    "total_rural = patient_demo_rural[patient_demo_rural['UrbanRural'] == 'R']['Patient_ID'].nunique()\n",
    "missing_urban_rural_count = patient_demo_rural[patient_demo_rural['UrbanRural'].isna()]['Patient_ID'].nunique()\n",
    "\n",
    "print(\"Total Number of Missing/Unspecified UrbanRural Category:\", missing_urban_rural_count)\n",
    "\n",
    "summary_data = {\n",
    "    'UrbanRural': ['Urban', 'Rural', 'Other'],\n",
    "    'Total Count': [total_urban, total_rural, missing_urban_rural_count],\n",
    "}\n",
    "\n",
    "summary_df = pd.DataFrame(summary_data)\n",
    "\n",
    "total_patients = total_urban + total_rural + missing_urban_rural_count\n",
    "summary_df['Proportion'] = summary_df['Total Count'] / total_patients\n",
    "print(summary_df)\n"
   ]
  },
  {
   "cell_type": "code",
   "execution_count": null,
   "id": "a6a92c48",
   "metadata": {},
   "outputs": [],
   "source": [
    "Exam = pd.read_csv(\"Z:\\Ferretin Project\\Ferritin Project\\Exam.csv\")\n",
    "BMI = Exam[Exam['Exam1_calc'] == \"BMI\"]\n",
    "BMI.drop(['Exam2_calc', 'Result2_calc'], axis=1, inplace=True)\n",
    "BMI.rename(columns={'Result1_calc': 'BMI_value'}, inplace=True)\n",
    "\n",
    "#Filtering BMI values within the range of 10 and 80 because outside of that might be false data\n",
    "BMI = BMI[(BMI['BMI_value'] >= 10) & (BMI['BMI_value'] <= 80)]\n",
    "BMI.reset_index(drop=True, inplace=True)\n",
    "BMI['DateCreated'] = pd.to_datetime(BMI['DateCreated'])\n",
    "BMI['YearCreated'] = BMI['DateCreated'].dt.year\n",
    "\n",
    "#Merging on YearCreated to capture the most closest correlation between ID status & BMI in the same year. Also making sure BMI per unique patient, so that certain patients are not overrepressented in data due to multiple encounters.\n",
    "BMI_merge = pd.merge(ferritin_lab_short, BMI[['Patient_ID', 'YearCreated', 'BMI_value']], on=['Patient_ID', 'YearCreated'], how='left')\n",
    "median_bmi_per_patient_year = BMI_merge.groupby(['Patient_ID', 'YearCreated'])['BMI_value'].median().reset_index()\n",
    "#Median BMI aggregate per unique patient across all years\n",
    "median_bmi_per_patient = median_bmi_per_patient_year.groupby('Patient_ID')['BMI_value'].median().reset_index()\n",
    "#Overall median of the aggregated BMI values\n",
    "overall_median_bmi = median_bmi_per_patient['BMI_value'].median()\n",
    "\n",
    "Q1 = median_bmi_per_patient['BMI_value'].quantile(0.25)\n",
    "Q3 = median_bmi_per_patient['BMI_value'].quantile(0.75)\n",
    "IQR = Q3 - Q1\n",
    "\n",
    "print(\"Overall Median of Aggregated BMI Values:\", overall_median_bmi)\n",
    "print(\"IQR of Aggregated Median BMI Values:\", IQR)\n"
   ]
  },
  {
   "cell_type": "code",
   "execution_count": null,
   "id": "7a1b1ac8",
   "metadata": {},
   "outputs": [],
   "source": [
    "depr = pd.read_csv(\"Z:\\Ferretin Project\\Ferritin Project\\Deprivation.csv\")\n",
    "\n",
    "depr['mat1'] = (1*depr['MaterialQ1'])/100\n",
    "depr['mat2'] = (2 * depr['MaterialQ2']) / 100\n",
    "depr['mat3'] = (3 * depr['MaterialQ3']) / 100\n",
    "depr['mat4'] = (4 * depr['MaterialQ4']) / 100\n",
    "depr['mat5'] = (5 * depr['MaterialQ5']) / 100\n",
    "\n",
    "depr['matdeptotal'] = depr[['mat1', 'mat2', 'mat3', 'mat4', 'mat5']].sum(axis=1)\n",
    "\n",
    "dep_pt_merged = pd.merge(depr[['Patient_ID', 'matdeptotal']], ferritin_lab_short, on = \"Patient_ID\", how = 'inner')"
   ]
  },
  {
   "cell_type": "code",
   "execution_count": null,
   "id": "085a8a1b",
   "metadata": {},
   "outputs": [],
   "source": [
    "unique_SES_pt = dep_pt_merged.drop_duplicates(subset='Patient_ID')\n",
    "summary_stats = unique_SES_pt['matdeptotal'].agg(['mean', 'median', 'std', 'quantile', 'max', 'min'])\n",
    "print(summary_stats)\n"
   ]
  },
  {
   "cell_type": "code",
   "execution_count": null,
   "id": "52bb9020",
   "metadata": {},
   "outputs": [],
   "source": [
    "unique_SES_pt = dep_pt_merged.drop_duplicates(subset='Patient_ID')\n",
    "summary_stats = unique_SES_pt['matdeptotal'].agg([\n",
    "    'mean', \n",
    "    'median', \n",
    "    'std', \n",
    "    lambda x: x.quantile(0.75) - x.quantile(0.25), \n",
    "    'max', \n",
    "    'min'\n",
    "])\n",
    "print(summary_stats)\n"
   ]
  },
  {
   "cell_type": "code",
   "execution_count": null,
   "id": "b766a3a9",
   "metadata": {},
   "outputs": [],
   "source": [
    "unique_patients_with_age = ferritin_lab_short[ferritin_lab_short['Age'].notna()]['Patient_ID'].nunique()\n",
    "print(\"unique_patients_age\", unique_patients_with_age)\n",
    "print(\"unique_SES\", unique_SES_pt[unique_SES_pt['matdeptotal'].notna()]['Patient_ID'].nunique())\n",
    "print(unique_SES_pt['Patient_ID'].nunique())\n",
    "print(\"patient_demo_rural\", patient_demo_rural[patient_demo_rural['UrbanRural'].notna()]['Patient_ID'].nunique())\n",
    "print(patient_demo_rural['Patient_ID'].nunique())\n",
    "print(\"BMI\", BMI_merge[BMI_merge['BMI_value'].notna()]['Patient_ID'].nunique())\n",
    "print(BMI_merge['Patient_ID'].nunique())\n"
   ]
  },
  {
   "cell_type": "code",
   "execution_count": null,
   "id": "1f27cb34",
   "metadata": {},
   "outputs": [],
   "source": []
  }
 ],
 "metadata": {
  "kernelspec": {
   "display_name": "Python 3 (ipykernel)",
   "language": "python",
   "name": "python3"
  },
  "language_info": {
   "codemirror_mode": {
    "name": "ipython",
    "version": 3
   },
   "file_extension": ".py",
   "mimetype": "text/x-python",
   "name": "python",
   "nbconvert_exporter": "python",
   "pygments_lexer": "ipython3",
   "version": "3.11.4"
  }
 },
 "nbformat": 4,
 "nbformat_minor": 5
}
