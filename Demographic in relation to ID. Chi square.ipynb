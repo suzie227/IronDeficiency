{
 "cells": [
  {
   "cell_type": "code",
   "execution_count": 1,
   "id": "76b08b22",
   "metadata": {},
   "outputs": [
    {
     "name": "stderr",
     "output_type": "stream",
     "text": [
      "C:\\Users\\suzielee\\AppData\\Local\\Temp\\ipykernel_9128\\3479589883.py:4: DtypeWarning: Columns (5) have mixed types. Specify dtype option on import or set low_memory=False.\n",
      "  lab = pd.read_csv(\"Z:\\Ferretin Project\\Ferritin Project\\Lab.csv\")\n"
     ]
    }
   ],
   "source": [
    "import pandas as pd\n",
    "\n",
    "patient = pd.read_csv(\"Z:\\Ferretin Project\\Ferritin Project\\Patient.csv\")\n",
    "lab = pd.read_csv(\"Z:\\Ferretin Project\\Ferritin Project\\Lab.csv\")\n",
    "\n",
    "# checking that inner join doesn't lose any patients.\n",
    "lab_patient_merged = pd.merge(patient, lab, on = \"Patient_ID\", how = 'inner')\n",
    "lab_patient_merged_outer = pd.merge(patient, lab, on = \"Patient_ID\", how = 'outer')\n",
    "\n",
    "lab_patient_merged['Site_ID'] = lab_patient_merged['Site_ID_x'].combine_first(lab_patient_merged['Site_ID_y'])\n",
    "lab_patient_merged.drop(['Site_ID_x', 'Site_ID_y'], axis=1, inplace=True)\n",
    "\n"
   ]
  },
  {
   "cell_type": "code",
   "execution_count": 2,
   "id": "e4576e4f",
   "metadata": {},
   "outputs": [
    {
     "name": "stderr",
     "output_type": "stream",
     "text": [
      "C:\\Users\\suzielee\\AppData\\Local\\Temp\\ipykernel_9128\\3779377110.py:6: DeprecationWarning: In a future version, `df.iloc[:, i] = newvals` will attempt to set the values inplace instead of always setting a new array. To retain the old behavior, use either `df[df.columns[i]] = newvals` or, if columns are non-unique, `df.isetitem(i, newvals)`\n",
      "  lab_patient_merged.loc[mask, 'Age'] = (\n",
      "C:\\Users\\suzielee\\AppData\\Local\\Temp\\ipykernel_9128\\3779377110.py:14: SettingWithCopyWarning: \n",
      "A value is trying to be set on a copy of a slice from a DataFrame.\n",
      "Try using .loc[row_indexer,col_indexer] = value instead\n",
      "\n",
      "See the caveats in the documentation: https://pandas.pydata.org/pandas-docs/stable/user_guide/indexing.html#returning-a-view-versus-a-copy\n",
      "  filtered_data['YearCreated'] = filtered_data['DateCreated'].dt.year.copy()\n"
     ]
    }
   ],
   "source": [
    "import numpy as np\n",
    "lab_patient_merged['DateCreated'] = pd.to_datetime(lab_patient_merged['DateCreated'])\n",
    "\n",
    "mask = ~lab_patient_merged[['DateCreated', 'BirthYear']].isnull().any(axis=1)\n",
    "lab_patient_merged['Age'] = np.nan\n",
    "lab_patient_merged.loc[mask, 'Age'] = (\n",
    "    (lab_patient_merged.loc[mask, 'DateCreated'] - \n",
    "    pd.to_datetime(lab_patient_merged.loc[mask, 'BirthYear'].astype(str) + '-06-01'))\n",
    "    .dt.days // 365\n",
    ")\n",
    "\n",
    "# Filter data for age >= 6\n",
    "filtered_data = lab_patient_merged[lab_patient_merged['Age'] >= 6]\n",
    "filtered_data['YearCreated'] = filtered_data['DateCreated'].dt.year.copy()\n",
    "\n"
   ]
  },
  {
   "cell_type": "code",
   "execution_count": 3,
   "id": "2706a1be",
   "metadata": {},
   "outputs": [
    {
     "name": "stderr",
     "output_type": "stream",
     "text": [
      "C:\\Users\\suzielee\\AppData\\Local\\Temp\\ipykernel_9128\\4070243153.py:1: UserWarning: Boolean Series key will be reindexed to match DataFrame index.\n",
      "  ferritin_lab = filtered_data[lab_patient_merged['Code_calc'] == \"2276-4\"]\n"
     ]
    }
   ],
   "source": [
    "ferritin_lab = filtered_data[lab_patient_merged['Code_calc'] == \"2276-4\"]\n",
    "ferritin_lab_short = ferritin_lab[['Patient_ID', 'Sex', 'Site_ID', 'TestResult_calc', 'YearCreated', 'Age']].copy()"
   ]
  },
  {
   "cell_type": "code",
   "execution_count": 4,
   "id": "10dee473",
   "metadata": {},
   "outputs": [],
   "source": [
    "#Iron Deficiency\n",
    "ferritin_lab_short['TestResult_calc'] = pd.to_numeric(ferritin_lab_short['TestResult_calc'], errors='coerce')\n",
    "ferritin_lab_short['iron_deficiency'] = ferritin_lab_short.groupby(['YearCreated', 'Patient_ID'])['TestResult_calc']\\\n",
    "                                        .transform(lambda x: (x < 15).any()).astype(int)\n"
   ]
  },
  {
   "cell_type": "code",
   "execution_count": 5,
   "id": "1d426d25",
   "metadata": {
    "scrolled": false
   },
   "outputs": [
    {
     "name": "stdout",
     "output_type": "stream",
     "text": [
      "Total unique patients with Iron Deficiency: 10081\n",
      "Total unique patients with Iron Sufficiency: 84183\n",
      "Proportion of patients with Iron Deficiency: 0.10694432657218025\n",
      "Proportion of patients with Iron Sufficiency: 0.8930556734278198\n"
     ]
    }
   ],
   "source": [
    "# Sorting such that rows with iron deficiency come on top. #Then deleting the duplicate rows to keep each unique patient only once\n",
    "ferritin_lab_short_sorted = ferritin_lab_short.sort_values(by=['iron_deficiency'], ascending=[False])\n",
    "ferritin_lab_short_unique = ferritin_lab_short_sorted.drop_duplicates(subset=['Patient_ID'])\n",
    "\n",
    "total_patients_with_iron_deficiency = ferritin_lab_short_unique[ferritin_lab_short_unique['iron_deficiency'] == 1]['Patient_ID'].nunique()\n",
    "total_patients_with_iron_sufficiency = ferritin_lab_short_unique[ferritin_lab_short_unique['iron_deficiency'] == 0]['Patient_ID'].nunique()\n",
    "total_unique_patients = ferritin_lab_short_unique['Patient_ID'].nunique()\n",
    "proportion_with_iron_deficiency = total_patients_with_iron_deficiency / total_unique_patients\n",
    "proportion_with_iron_sufficiency = total_patients_with_iron_sufficiency / total_unique_patients\n",
    "\n",
    "print(\"Total unique patients with Iron Deficiency:\", total_patients_with_iron_deficiency)\n",
    "print(\"Total unique patients with Iron Sufficiency:\", total_patients_with_iron_sufficiency)\n",
    "print(\"Proportion of patients with Iron Deficiency:\", proportion_with_iron_deficiency)\n",
    "print(\"Proportion of patients with Iron Sufficiency:\", proportion_with_iron_sufficiency)\n"
   ]
  },
  {
   "cell_type": "code",
   "execution_count": 6,
   "id": "a9e377dc",
   "metadata": {},
   "outputs": [
    {
     "name": "stdout",
     "output_type": "stream",
     "text": [
      "94264\n"
     ]
    }
   ],
   "source": [
    "# Making sure #s are consistent. \n",
    "print(ferritin_lab_short_unique['Patient_ID'].nunique())"
   ]
  },
  {
   "cell_type": "code",
   "execution_count": 7,
   "id": "5c505dbd",
   "metadata": {},
   "outputs": [
    {
     "name": "stdout",
     "output_type": "stream",
     "text": [
      "\n",
      "Counts and Proportions by Sex:\n",
      "Total unique females: 58007\n",
      "Total unique males: 36213\n",
      "Total unique other/unspecified: 44\n",
      "Count of females with Iron Deficiency: 9113\n",
      "Count of males with Iron Deficiency: 964\n",
      "Count of other/unspecified with Iron Deficiency: 4\n",
      "Proportion of females with Iron Deficiency: 0.15710172910166015\n",
      "Proportion of males with Iron Deficiency: 0.026620274487062657\n",
      "Proportion of other/unspecified with Iron Deficiency: 0.09090909090909091\n"
     ]
    }
   ],
   "source": [
    "#Counts by sex\n",
    "total_unique_females = ferritin_lab_short_unique[ferritin_lab_short_unique['Sex'] == 'Female']['Patient_ID'].nunique()\n",
    "total_unique_males = ferritin_lab_short_unique[ferritin_lab_short_unique['Sex'] == 'Male']['Patient_ID'].nunique()\n",
    "\n",
    "#Patients with unspecified gender (NaN in 'Sex' column)\n",
    "total_unique_other = ferritin_lab_short_unique['Patient_ID'].nunique() - total_unique_females - total_unique_males\n",
    "\n",
    "#Tally for each sex category\n",
    "count_females_with_iron_deficiency = ferritin_lab_short_unique[(ferritin_lab_short_unique['Sex'] == 'Female') & (ferritin_lab_short_unique['iron_deficiency'] == 1)]['Patient_ID'].nunique()\n",
    "count_males_with_iron_deficiency = ferritin_lab_short_unique[(ferritin_lab_short_unique['Sex'] == 'Male') & (ferritin_lab_short_unique['iron_deficiency'] == 1)]['Patient_ID'].nunique()\n",
    "count_other_with_iron_deficiency = ferritin_lab_short_unique[(ferritin_lab_short_unique['Sex'].isna()) & (ferritin_lab_short_unique['iron_deficiency'] == 1)]['Patient_ID'].nunique()\n",
    "proportion_females_with_iron_deficiency = count_females_with_iron_deficiency / total_unique_females\n",
    "proportion_males_with_iron_deficiency = count_males_with_iron_deficiency / total_unique_males\n",
    "proportion_other_with_iron_deficiency = count_other_with_iron_deficiency / total_unique_other\n",
    "\n",
    "print(\"\\nCounts and Proportions by Sex:\")\n",
    "print(\"Total unique females:\", total_unique_females)\n",
    "print(\"Total unique males:\", total_unique_males)\n",
    "print(\"Total unique other/unspecified:\", total_unique_other)\n",
    "print(\"Count of females with Iron Deficiency:\", count_females_with_iron_deficiency)\n",
    "print(\"Count of males with Iron Deficiency:\", count_males_with_iron_deficiency)\n",
    "print(\"Count of other/unspecified with Iron Deficiency:\", count_other_with_iron_deficiency)\n",
    "print(\"Proportion of females with Iron Deficiency:\", proportion_females_with_iron_deficiency)\n",
    "print(\"Proportion of males with Iron Deficiency:\", proportion_males_with_iron_deficiency)\n",
    "print(\"Proportion of other/unspecified with Iron Deficiency:\", proportion_other_with_iron_deficiency)\n"
   ]
  },
  {
   "cell_type": "code",
   "execution_count": 8,
   "id": "7a891d55",
   "metadata": {},
   "outputs": [
    {
     "name": "stdout",
     "output_type": "stream",
     "text": [
      "\n",
      "Chi-Squared Test Results:\n",
      "Chi-Squared Statistic (Sex vs. Iron Deficiency Counts): 3974.4410129739\n",
      "P-Value: 0.0000000000\n"
     ]
    }
   ],
   "source": [
    "from scipy.stats import chi2_contingency\n",
    "\n",
    "contingency_table_sex_counts = [\n",
    "    [count_females_with_iron_deficiency, total_unique_females - count_females_with_iron_deficiency],\n",
    "    [count_males_with_iron_deficiency, total_unique_males - count_males_with_iron_deficiency],\n",
    "    [count_other_with_iron_deficiency, total_unique_other - count_other_with_iron_deficiency]\n",
    "]\n",
    "\n",
    "chi2_sex_counts, p_sex_counts, _, _ = chi2_contingency(contingency_table_sex_counts)\n",
    "\n",
    "print(\"\\nChi-Squared Test Results:\")\n",
    "print(f\"Chi-Squared Statistic (Sex vs. Iron Deficiency Counts): {chi2_sex_counts:.10f}\")\n",
    "print(f\"P-Value: {p_sex_counts:.10f}\")"
   ]
  },
  {
   "cell_type": "code",
   "execution_count": 9,
   "id": "6a4b5e25",
   "metadata": {},
   "outputs": [
    {
     "name": "stdout",
     "output_type": "stream",
     "text": [
      "Chi-Squared Statistic (Sex vs. Iron Deficiency Counts): 3974.4410129738626\n",
      "P-Value: 0.0000000000\n"
     ]
    }
   ],
   "source": [
    "#Double-checking manually with tally #s. \n",
    "\n",
    "total_females = 58007\n",
    "total_males = 36213\n",
    "total_others = 44\n",
    "\n",
    "contingency_table_sex_counts = [[9113, total_females - 9113],\n",
    "                                [964, total_males - 964],\n",
    "                                [4, total_others - 4]]\n",
    "\n",
    "chi2_sex_counts, p_sex_counts, _, _ = chi2_contingency(contingency_table_sex_counts)\n",
    "\n",
    "print(f\"Chi-Squared Statistic (Sex vs. Iron Deficiency Counts): {chi2_sex_counts}\")\n",
    "print(f\"P-Value: {p_sex_counts:.10f}\")"
   ]
  },
  {
   "cell_type": "code",
   "execution_count": 10,
   "id": "f8ce906c",
   "metadata": {},
   "outputs": [
    {
     "name": "stderr",
     "output_type": "stream",
     "text": [
      "C:\\Users\\suzielee\\AppData\\Local\\Temp\\ipykernel_9128\\3621126437.py:15: SettingWithCopyWarning: \n",
      "A value is trying to be set on a copy of a slice from a DataFrame.\n",
      "Try using .loc[row_indexer,col_indexer] = value instead\n",
      "\n",
      "See the caveats in the documentation: https://pandas.pydata.org/pandas-docs/stable/user_guide/indexing.html#returning-a-view-versus-a-copy\n",
      "  ferritin_lab_short_unique['AgeGroup'] = ferritin_lab_short_unique['Age'].apply(categorize_age_group)\n"
     ]
    },
    {
     "name": "stdout",
     "output_type": "stream",
     "text": [
      "Counts by Age Group: {'6-13': 249, '14-18': 663, '19-30': 2005, '31-50': 4683, '51-79': 2173, '80+': 308}\n",
      "{'6-13': 249, '14-18': 663, '19-30': 2005, '31-50': 4683, '51-79': 2173, '80+': 308}\n",
      "\n",
      "Proportions by Age Group:\n",
      "{'6-13': 0.053387650085763294, '14-18': 0.13916876574307305, '19-30': 0.14294880935405674, '31-50': 0.14515979045906824, '51-79': 0.06332876752251333, '80+': 0.07271010387157696}\n",
      "\n",
      "Overall population by Age Group:\n",
      "{'6-13': 4664, '14-18': 4764, '19-30': 14026, '31-50': 32261, '51-79': 34313, '80+': 4236}\n"
     ]
    }
   ],
   "source": [
    "def categorize_age_group(age):\n",
    "    if 6 <= age <= 13:\n",
    "        return '6-13'\n",
    "    elif 14 <= age <= 18:\n",
    "        return '14-18'\n",
    "    elif 19 <= age <= 30:\n",
    "        return '19-30'\n",
    "    elif 31 <= age <= 50:\n",
    "        return '31-50'\n",
    "    elif 51 <= age <= 79:\n",
    "        return '51-79'\n",
    "    else:\n",
    "        return '80+'\n",
    "\n",
    "ferritin_lab_short_unique['AgeGroup'] = ferritin_lab_short_unique['Age'].apply(categorize_age_group)\n",
    "age_categories = ['6-13', '14-18', '19-30', '31-50', '51-79', '80+']\n",
    "\n",
    "# Dictionaries\n",
    "count_by_age = {}\n",
    "proportion_by_age = {}\n",
    "total_unique_pts = {}\n",
    "\n",
    "# Iterate for age categories\n",
    "for age_group in age_categories:\n",
    "    filtered_data = ferritin_lab_short_unique[ferritin_lab_short_unique['AgeGroup'] == age_group]\n",
    "    count_with_iron_deficiency = filtered_data[filtered_data['iron_deficiency'] == 1]['Patient_ID'].nunique()\n",
    "    total_unique_patients = filtered_data['Patient_ID'].nunique()\n",
    "    proportion = count_with_iron_deficiency / total_unique_patients\n",
    "    \n",
    "    count_by_age[age_group] = count_with_iron_deficiency\n",
    "    proportion_by_age[age_group] = proportion\n",
    "    total_unique_pts[age_group] = total_unique_patients\n",
    "\n",
    "print(\"Counts by Age Group:\", count_by_age)\n",
    "print(count_by_age)\n",
    "print(\"\\nProportions by Age Group:\")\n",
    "print(proportion_by_age)\n",
    "print(\"\\nOverall population by Age Group:\")\n",
    "print(total_unique_pts)\n",
    "\n"
   ]
  },
  {
   "cell_type": "code",
   "execution_count": 11,
   "id": "64d18eda",
   "metadata": {},
   "outputs": [
    {
     "name": "stdout",
     "output_type": "stream",
     "text": [
      "Chi-squared test: age vs iron Deficiency): 1610.9820529523645\n",
      "P-Value: 0.0000\n"
     ]
    }
   ],
   "source": [
    "total_age_categories = [total_unique_pts[age_group] for age_group in age_categories]\n",
    "iron_deficiency_cases_age = [count_by_age[age_group] for age_group in age_categories]\n",
    "non_deficiency_cases_age = [total - deficient for total, deficient in zip(total_age_categories, iron_deficiency_cases_age)]\n",
    "\n",
    "contingency_table_age_counts = [[deficient, non_deficient] for deficient, non_deficient in zip(iron_deficiency_cases_age, non_deficiency_cases_age)]\n",
    "chi2_age_counts, p_age_counts, _, _ = chi2_contingency(contingency_table_age_counts)\n",
    "\n",
    "print(f\"Chi-squared test: age vs iron Deficiency): {chi2_age_counts}\")\n",
    "print(f\"P-Value: {p_age_counts:.4f}\")  \n"
   ]
  },
  {
   "cell_type": "code",
   "execution_count": 12,
   "id": "65c0d98c",
   "metadata": {},
   "outputs": [
    {
     "name": "stdout",
     "output_type": "stream",
     "text": [
      "Chi=Squared test: age vs iron Deficiency): 1610.9820529523645\n",
      "P-Value: 0.000\n"
     ]
    }
   ],
   "source": [
    "# Check manually\n",
    "total_age_categories = [4664, 4764, 14026, 32261, 34313, 4236]\n",
    "iron_deficiency_cases_age = [249, 663, 2005, 4683, 2173, 308]\n",
    "non_deficiency_cases_age = [4415, 4101, 12021, 27578, 32140, 3928]\n",
    "contingency_table_age_counts = [[deficient, non_deficient] for deficient, non_deficient in zip(iron_deficiency_cases_age, non_deficiency_cases_age)]\n",
    "chi2_age_counts, p_age_counts, _, _ = chi2_contingency(contingency_table_age_counts)\n",
    "\n",
    "print(f\"Chi=Squared test: age vs iron Deficiency): {chi2_age_counts}\")\n",
    "print(f\"P-Value: {p_age_counts:.3f}\")"
   ]
  },
  {
   "cell_type": "code",
   "execution_count": 13,
   "id": "e16138b6",
   "metadata": {},
   "outputs": [
    {
     "name": "stdout",
     "output_type": "stream",
     "text": [
      "10081 84183\n"
     ]
    }
   ],
   "source": [
    "depr = pd.read_csv(\"Z:\\Ferretin Project\\Ferritin Project\\Deprivation.csv\")\n",
    "\n",
    "depr['mat1'] = (1*depr['MaterialQ1'])/100\n",
    "depr['mat2'] = (2 * depr['MaterialQ2']) / 100\n",
    "depr['mat3'] = (3 * depr['MaterialQ3']) / 100\n",
    "depr['mat4'] = (4 * depr['MaterialQ4']) / 100\n",
    "depr['mat5'] = (5 * depr['MaterialQ5']) / 100\n",
    "\n",
    "depr['matdeptotal'] = depr[['mat1', 'mat2', 'mat3', 'mat4', 'mat5']].sum(axis=1)\n",
    "\n",
    "ferritin_mat = pd.merge(ferritin_lab_short_unique, depr[['Patient_ID', 'matdeptotal']], on=\"Patient_ID\", how='left')\n",
    "\n",
    "total_patients_with_iron_deficiency = ferritin_lab_short_unique[ferritin_lab_short_unique['iron_deficiency'] == 1]['Patient_ID'].nunique()\n",
    "total_patients_with_iron_sufficiency = ferritin_lab_short_unique[ferritin_lab_short_unique['iron_deficiency'] == 0]['Patient_ID'].nunique()\n",
    "print(total_patients_with_iron_deficiency, total_patients_with_iron_sufficiency)"
   ]
  },
  {
   "cell_type": "code",
   "execution_count": 14,
   "id": "2b533c0f",
   "metadata": {},
   "outputs": [
    {
     "name": "stdout",
     "output_type": "stream",
     "text": [
      "Counts by MatDep:\n",
      "{'0-1': 2662, '1-2': 1661, '2-3': 1475, '3-4': 1997, '4-5': 2286}\n",
      "\n",
      "Proportions by MatDep:\n",
      "{'0-1': 0.07271010387157696, '1-2': 0.07271010387157696, '2-3': 0.07271010387157696, '3-4': 0.07271010387157696, '4-5': 0.07271010387157696}\n",
      "\n",
      "Overall population by MatDep:\n",
      "{'0-1': 29057, '1-2': 17110, '2-3': 13686, '3-4': 15260, '4-5': 19151}\n"
     ]
    }
   ],
   "source": [
    "count_by_category = {}\n",
    "proportion_by_category = {}\n",
    "total_unique_patients = {} \n",
    "\n",
    "categories = ['0-1', '1-2', '2-3', '3-4', '4-5']\n",
    "\n",
    "# Function to categorize matdeptotal\n",
    "def categorize_matdeptotal(matdeptotal):\n",
    "    if 0 <= matdeptotal <= 1:\n",
    "        return '0-1'\n",
    "    elif 1 < matdeptotal <= 2:\n",
    "        return '1-2'\n",
    "    elif 2 < matdeptotal <= 3:\n",
    "        return '2-3'\n",
    "    elif 3 < matdeptotal <= 4:\n",
    "        return '3-4'\n",
    "    else:\n",
    "        return '4-5'\n",
    "\n",
    "ferritin_mat['MatDeptotalCategory'] = ferritin_mat['matdeptotal'].apply(categorize_matdeptotal)\n",
    "\n",
    "# Iterate through matdeptotal\n",
    "for category in categories:\n",
    "    filtered_data = ferritin_mat[ferritin_mat['MatDeptotalCategory'] == category]\n",
    "    \n",
    "    count_with_iron_deficiency = filtered_data[filtered_data['iron_deficiency'] == 1]['Patient_ID'].nunique()\n",
    "    \n",
    "    total_unique_patients_in_category = filtered_data['Patient_ID'].nunique()\n",
    "    \n",
    "    # Storage\n",
    "    count_by_category[category] = count_with_iron_deficiency\n",
    "    proportion_by_category[category] = proportion\n",
    "    total_unique_patients[category] = total_unique_patients_in_category\n",
    "\n",
    "print(\"Counts by MatDep:\")\n",
    "print(count_by_category)\n",
    "print(\"\\nProportions by MatDep:\")\n",
    "print(proportion_by_category)\n",
    "print(\"\\nOverall population by MatDep:\")\n",
    "print(total_unique_patients)\n"
   ]
  },
  {
   "cell_type": "code",
   "execution_count": 15,
   "id": "4a4be0d7",
   "metadata": {},
   "outputs": [
    {
     "name": "stdout",
     "output_type": "stream",
     "text": [
      "Chi-Square independence: MatDep vs Iron Deficiency Counts): 211.42001278536017\n",
      "P-Value: 0.0000\n"
     ]
    }
   ],
   "source": [
    "# Using list\n",
    "total_counts = list(total_unique_patients.values()) \n",
    "iron_deficiency_cases = list(count_by_category.values())\n",
    "\n",
    "non_deficiency_cases = [total - deficient for total, deficient in zip(total_counts, iron_deficiency_cases)]\n",
    "contingency_table = [[deficient, non_deficient] for deficient, non_deficient in zip(iron_deficiency_cases, non_deficiency_cases)]\n",
    "\n",
    "chi2_statistic, p_value, _, _ = chi2_contingency(contingency_table)\n",
    "\n",
    "print(f\"Chi-Square independence: MatDep vs Iron Deficiency Counts): {chi2_statistic}\")\n",
    "print(f\"P-Value: {p_value:.4f}\")"
   ]
  },
  {
   "cell_type": "code",
   "execution_count": 16,
   "id": "db357e42",
   "metadata": {},
   "outputs": [
    {
     "name": "stdout",
     "output_type": "stream",
     "text": [
      "3.11.4\n"
     ]
    }
   ],
   "source": [
    "from platform import python_version\n",
    "\n",
    "print(python_version())"
   ]
  }
 ],
 "metadata": {
  "kernelspec": {
   "display_name": "Python 3 (ipykernel)",
   "language": "python",
   "name": "python3"
  },
  "language_info": {
   "codemirror_mode": {
    "name": "ipython",
    "version": 3
   },
   "file_extension": ".py",
   "mimetype": "text/x-python",
   "name": "python",
   "nbconvert_exporter": "python",
   "pygments_lexer": "ipython3",
   "version": "3.11.4"
  }
 },
 "nbformat": 4,
 "nbformat_minor": 5
}
