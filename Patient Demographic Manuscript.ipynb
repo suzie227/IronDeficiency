{
 "cells": [
  {
   "cell_type": "code",
   "execution_count": 1,
   "id": "8917f458",
   "metadata": {},
   "outputs": [
    {
     "name": "stderr",
     "output_type": "stream",
     "text": [
      "C:\\Users\\suzielee\\AppData\\Local\\Temp\\ipykernel_4272\\4245242311.py:4: DtypeWarning: Columns (5) have mixed types. Specify dtype option on import or set low_memory=False.\n",
      "  lab = pd.read_csv(\"Z:\\Ferretin Project\\Ferritin Project\\Lab.csv\")\n"
     ]
    }
   ],
   "source": [
    "import pandas as pd\n",
    "\n",
    "patient = pd.read_csv(\"Z:\\Ferretin Project\\Ferritin Project\\Patient.csv\")\n",
    "lab = pd.read_csv(\"Z:\\Ferretin Project\\Ferritin Project\\Lab.csv\")\n",
    "lab_patient_merged = pd.merge(patient, lab, on = \"Patient_ID\", how = 'inner')\n",
    "\n",
    "lab_patient_merged['Site_ID'] = lab_patient_merged['Site_ID_x'].combine_first(lab_patient_merged['Site_ID_y'])\n",
    "lab_patient_merged.drop(['Site_ID_x', 'Site_ID_y'], axis=1, inplace=True)\n",
    "\n",
    "lab_patient_merged['DateCreated'] = pd.to_datetime(lab_patient_merged['DateCreated'])\n",
    "lab_patient_merged['YearCreated'] = lab_patient_merged['DateCreated'].dt.year"
   ]
  },
  {
   "cell_type": "code",
   "execution_count": 2,
   "id": "d3922d44",
   "metadata": {},
   "outputs": [
    {
     "name": "stdout",
     "output_type": "stream",
     "text": [
      "      Sex  Total Count  Proportion\n",
      "0  Female        73820    0.552864\n",
      "1    Male        59630    0.446590\n",
      "2   Other           73    0.000547\n"
     ]
    }
   ],
   "source": [
    "#Sex distribution of the overall population before filter \n",
    "total_male = lab_patient_merged[lab_patient_merged['Sex'] == 'Male']['Patient_ID'].nunique()\n",
    "total_female = lab_patient_merged[lab_patient_merged['Sex'] == 'Female']['Patient_ID'].nunique()\n",
    "total_patients = lab_patient_merged['Patient_ID'].nunique()\n",
    "missing_gender_count = lab_patient_merged[lab_patient_merged['Sex'].isna()]['Patient_ID'].nunique()\n",
    "\n",
    "summary_data = {\n",
    "    'Sex': ['Female', 'Male', 'Other'],\n",
    "    'Total Count': [total_female, total_male, missing_gender_count],\n",
    "}\n",
    "\n",
    "summary_df = pd.DataFrame(summary_data)\n",
    "\n",
    "total_patients = total_female + total_male + missing_gender_count\n",
    "summary_df['Proportion'] = summary_df['Total Count'] / total_patients\n",
    "print(summary_df)"
   ]
  },
  {
   "cell_type": "code",
   "execution_count": 3,
   "id": "93914735",
   "metadata": {},
   "outputs": [
    {
     "name": "stderr",
     "output_type": "stream",
     "text": [
      "C:\\Users\\suzielee\\AppData\\Local\\Temp\\ipykernel_4272\\2664049703.py:6: DeprecationWarning: In a future version, `df.iloc[:, i] = newvals` will attempt to set the values inplace instead of always setting a new array. To retain the old behavior, use either `df[df.columns[i]] = newvals` or, if columns are non-unique, `df.isetitem(i, newvals)`\n",
      "  lab_patient_merged.loc[mask, 'Age'] = (\n"
     ]
    }
   ],
   "source": [
    "import numpy as np\n",
    "lab_patient_merged['DateCreated'] = pd.to_datetime(lab_patient_merged['DateCreated'])\n",
    "\n",
    "mask = ~lab_patient_merged[['DateCreated', 'BirthYear']].isnull().any(axis=1)\n",
    "lab_patient_merged['Age'] = np.nan\n",
    "lab_patient_merged.loc[mask, 'Age'] = (\n",
    "    (lab_patient_merged.loc[mask, 'DateCreated'] - \n",
    "    pd.to_datetime(lab_patient_merged.loc[mask, 'BirthYear'].astype(str) + '-06-01'))\n",
    "    .dt.days // 365\n",
    ")\n",
    "\n",
    "lab_patient_merged = lab_patient_merged[lab_patient_merged['Age'] >= 6]"
   ]
  },
  {
   "cell_type": "code",
   "execution_count": 4,
   "id": "8dc9ed14",
   "metadata": {},
   "outputs": [],
   "source": [
    "ferritin_lab = lab_patient_merged[lab_patient_merged['Code_calc'] == \"2276-4\"]\n",
    "ferritin_lab_short = ferritin_lab[['Patient_ID', 'Sex', 'Site_ID', 'TestResult_calc', 'DateCreated', 'YearCreated', 'Age']].copy()"
   ]
  },
  {
   "cell_type": "code",
   "execution_count": 5,
   "id": "01c1b512",
   "metadata": {},
   "outputs": [
    {
     "name": "stdout",
     "output_type": "stream",
     "text": [
      "Total Number of Unique Patients: 94264\n",
      "Total Number of Female: 58007 Total Number of Male: 36213 Total Number of Missing/Unspecified Gender: 44\n"
     ]
    }
   ],
   "source": [
    "total_unique_patients = ferritin_lab_short['Patient_ID'].nunique()\n",
    "print(\"Total Number of Unique Patients:\", total_unique_patients)\n",
    "\n",
    "#Tally by sex\n",
    "female_count = ferritin_lab_short[ferritin_lab_short['Sex'] == 'Female']['Patient_ID'].nunique()\n",
    "male_count = ferritin_lab_short[ferritin_lab_short['Sex'] == 'Male']['Patient_ID'].nunique()\n",
    "missing_gender_count = total_unique_patients - (female_count + male_count)\n",
    "\n",
    "print(\"Total Number of Female:\", female_count, \"Total Number of Male:\", male_count, \"Total Number of Missing/Unspecified Gender:\", missing_gender_count)\n"
   ]
  },
  {
   "cell_type": "code",
   "execution_count": 6,
   "id": "21072c5f",
   "metadata": {},
   "outputs": [
    {
     "name": "stdout",
     "output_type": "stream",
     "text": [
      "    YearCreated     Sex  Count  TotalCount  Proportion\n",
      "0          2010  Female   9088       13022    0.697896\n",
      "1          2010    Male   3934       13022    0.302104\n",
      "2          2011  Female  10065       14544    0.692038\n",
      "3          2011    Male   4479       14544    0.307962\n",
      "4          2012  Female  11003       16206    0.678946\n",
      "5          2012    Male   5203       16206    0.321054\n",
      "6          2013  Female  12401       18745    0.661563\n",
      "7          2013    Male   6344       18745    0.338437\n",
      "8          2014  Female  13140       19832    0.662566\n",
      "9          2014    Male   6692       19832    0.337434\n",
      "10         2015  Female  13017       19414    0.670496\n",
      "11         2015    Male   6397       19414    0.329504\n",
      "12         2016  Female  13282       20177    0.658274\n",
      "13         2016    Male   6895       20177    0.341726\n",
      "14         2017  Female  13461       20628    0.652560\n",
      "15         2017    Male   7167       20628    0.347440\n",
      "16         2018  Female  14587       22344    0.652837\n",
      "17         2018    Male   7757       22344    0.347163\n",
      "18         2019  Female  14831       22874    0.648378\n",
      "19         2019    Male   8043       22874    0.351622\n",
      "20         2020  Female  11240       17038    0.659702\n",
      "21         2020    Male   5798       17038    0.340298\n",
      "22         2021  Female  13629       20573    0.662470\n",
      "23         2021    Male   6944       20573    0.337530\n",
      "24         2022  Female  13892       21014    0.661083\n",
      "25         2022    Male   7122       21014    0.338917\n"
     ]
    }
   ],
   "source": [
    "Grouped_year_sex = ferritin_lab_short.groupby(['YearCreated', 'Sex'])['Patient_ID'].nunique().reset_index()\n",
    "Grouped_year_sex = Grouped_year_sex.rename(columns={'Patient_ID': 'Count'})\n",
    "Grouped_year_sex['TotalCount'] = Grouped_year_sex.groupby('YearCreated')['Count'].transform('sum')\n",
    "Grouped_year_sex['Proportion'] = Grouped_year_sex['Count'] / Grouped_year_sex['TotalCount']\n",
    "print(Grouped_year_sex)"
   ]
  },
  {
   "cell_type": "code",
   "execution_count": 7,
   "id": "d9bd5a26",
   "metadata": {},
   "outputs": [
    {
     "data": {
      "image/png": "[encoded data removed]",
      "text/plain": [
       "<Figure size 640x480 with 1 Axes>"
      ]
     },
     "metadata": {},
     "output_type": "display_data"
    }
   ],
   "source": [
    "unique_age_per_patient = ferritin_lab_short.groupby(['YearCreated', 'Patient_ID'])['Age'].first().reset_index()\n",
    "import matplotlib.pyplot as plt\n",
    "\n",
    "for year in unique_age_per_patient['YearCreated'].unique():\n",
    "    plt.hist(unique_age_per_patient[unique_age_per_patient['YearCreated'] == year]['Age'], bins=20, alpha=0.7, label=f\"Year {year}\")\n",
    "    \n",
    "plt.title('Age Distribution by Year')\n",
    "plt.xlabel('Age')\n",
    "plt.ylabel('Number of Patients')\n",
    "plt.legend(loc=\"upper right\")\n",
    "plt.show()\n"
   ]
  },
  {
   "cell_type": "code",
   "execution_count": 8,
   "id": "5eb3d71b",
   "metadata": {},
   "outputs": [
    {
     "name": "stdout",
     "output_type": "stream",
     "text": [
      "              Mean Age  Sample SD Age\n",
      "YearCreated                          \n",
      "2010         47.896345      17.951401\n",
      "2011         48.043858      18.053562\n",
      "2012         48.755615      18.155980\n",
      "2013         49.271442      18.107114\n",
      "2014         49.544685      18.129540\n",
      "2015         49.278696      18.210785\n",
      "2016         48.778565      18.713723\n",
      "2017         49.472350      18.823642\n",
      "2018         49.494945      19.068235\n",
      "2019         49.947994      19.260846\n",
      "2020         50.214047      19.565863\n",
      "2021         50.328638      19.524015\n",
      "2022         50.921760      19.757065\n"
     ]
    }
   ],
   "source": [
    "unique_age_per_patient = ferritin_lab_short.groupby(['YearCreated', 'Patient_ID'])['Age'].first().reset_index()\n",
    "mean_age_per_year = unique_age_per_patient.groupby('YearCreated')['Age'].mean()\n",
    "std_age_per_year = unique_age_per_patient.groupby('YearCreated')['Age'].std()\n",
    "\n",
    "data = {\n",
    "    'Mean Age': mean_age_per_year,\n",
    "    'Sample SD Age': std_age_per_year\n",
    "}\n",
    "summary_df = pd.DataFrame(data)\n",
    "\n",
    "print(summary_df)"
   ]
  },
  {
   "cell_type": "code",
   "execution_count": 9,
   "id": "1aa8bb6b",
   "metadata": {},
   "outputs": [
    {
     "name": "stdout",
     "output_type": "stream",
     "text": [
      "Overall Mean Age: 45.86763206837815\n",
      "Standard Deviation of Mean Age: 19.724782407388172\n",
      "Overall Median Age: 45.5\n",
      "IQR Median Age: 29.64393939393939\n",
      "Min Age: 6 Max Age: 104\n"
     ]
    }
   ],
   "source": [
    "# Since data is longitudinal, just doing mean of overall dataset may have patient with multiple encounters overrepresented in the dataset for final mean. Therefore, took mean of each patient's age to represent their age most accurately. Then took range, mean, and median of the all of the patients to best represent study population. \n",
    "mean_age_per_patient_year = ferritin_lab_short.groupby(['YearCreated', 'Patient_ID'])['Age'].mean().reset_index()\n",
    "patient_aggregated_data = mean_age_per_patient_year.groupby('Patient_ID')['Age'].agg(['mean', 'median']).reset_index()\n",
    "overall_mean_age = patient_aggregated_data['mean'].mean()\n",
    "overall_median_age = patient_aggregated_data['median'].median()\n",
    "\n",
    "std_mean_age = patient_aggregated_data['mean'].std()\n",
    "iqr_median_age = np.percentile(patient_aggregated_data['median'], 75) - np.percentile(patient_aggregated_data['median'], 25)\n",
    "\n",
    "print(\"Overall Mean Age:\", overall_mean_age)\n",
    "print(\"Standard Deviation of Mean Age:\", std_mean_age)\n",
    "print(\"Overall Median Age:\", overall_median_age)\n",
    "print(\"IQR Median Age:\", iqr_median_age)\n",
    "print(\"Min Age:\", ferritin_lab['Age'].min(), \"Max Age:\", ferritin_lab['Age'].max())\n",
    "\n"
   ]
  },
  {
   "cell_type": "code",
   "execution_count": 10,
   "id": "7551bfed",
   "metadata": {},
   "outputs": [
    {
     "name": "stdout",
     "output_type": "stream",
     "text": [
      "      Sex  Total Count  Proportion\n",
      "0  Female        58007    0.615367\n",
      "1    Male        36213    0.384166\n",
      "2   Other           44    0.000467\n"
     ]
    }
   ],
   "source": [
    "total_female = ferritin_lab_short[ferritin_lab_short['Sex'] == 'Female']['Patient_ID'].nunique()\n",
    "total_male = ferritin_lab_short[ferritin_lab_short['Sex'] == 'Male']['Patient_ID'].nunique()\n",
    "missing_gender_count = ferritin_lab_short[ferritin_lab_short['Sex'].isna()]['Patient_ID'].nunique()\n",
    "\n",
    "# Create a DataFrame for the summary\n",
    "summary_data = {\n",
    "    'Sex': ['Female', 'Male', 'Other'],\n",
    "    'Total Count': [total_female, total_male, missing_gender_count],\n",
    "}\n",
    "\n",
    "summary_df = pd.DataFrame(summary_data)\n",
    "\n",
    "total_patients = total_female + total_male + missing_gender_count\n",
    "summary_df['Proportion'] = summary_df['Total Count'] / total_patients\n",
    "print(summary_df)\n"
   ]
  },
  {
   "cell_type": "code",
   "execution_count": 11,
   "id": "68234200",
   "metadata": {},
   "outputs": [
    {
     "name": "stdout",
     "output_type": "stream",
     "text": [
      "Total Number of Missing/Unspecified UrbanRural Category: 0\n",
      "  UrbanRural  Total Count  Proportion\n",
      "0      Urban        82345    0.873557\n",
      "1      Rural        11919    0.126443\n",
      "2      Other            0    0.000000\n"
     ]
    }
   ],
   "source": [
    "rural = pd.read_csv(\"Z:\\Ferretin Project\\Ferritin Project\\Site.csv\")\n",
    "\n",
    "patient_demo_rural = pd.merge(rural, ferritin_lab_short, on = 'Site_ID', how='inner')\n",
    "unique_patients_by_urban_rural = patient_demo_rural.groupby('UrbanRural')['Patient_ID'].nunique()\n",
    "\n",
    "total_urban = patient_demo_rural[patient_demo_rural['UrbanRural'] == 'U']['Patient_ID'].nunique()\n",
    "total_rural = patient_demo_rural[patient_demo_rural['UrbanRural'] == 'R']['Patient_ID'].nunique()\n",
    "missing_urban_rural_count = patient_demo_rural[patient_demo_rural['UrbanRural'].isna()]['Patient_ID'].nunique()\n",
    "\n",
    "print(\"Total Number of Missing/Unspecified UrbanRural Category:\", missing_urban_rural_count)\n",
    "\n",
    "summary_data = {\n",
    "    'UrbanRural': ['Urban', 'Rural', 'Other'],\n",
    "    'Total Count': [total_urban, total_rural, missing_urban_rural_count],\n",
    "}\n",
    "\n",
    "summary_df = pd.DataFrame(summary_data)\n",
    "\n",
    "total_patients = total_urban + total_rural + missing_urban_rural_count\n",
    "summary_df['Proportion'] = summary_df['Total Count'] / total_patients\n",
    "print(summary_df)\n"
   ]
  },
  {
   "cell_type": "code",
   "execution_count": 12,
   "id": "a6a92c48",
   "metadata": {},
   "outputs": [
    {
     "name": "stderr",
     "output_type": "stream",
     "text": [
      "C:\\Users\\suzielee\\AppData\\Local\\Temp\\ipykernel_4272\\1819562445.py:3: SettingWithCopyWarning: \n",
      "A value is trying to be set on a copy of a slice from a DataFrame\n",
      "\n",
      "See the caveats in the documentation: https://pandas.pydata.org/pandas-docs/stable/user_guide/indexing.html#returning-a-view-versus-a-copy\n",
      "  BMI.drop(['Exam2_calc', 'Result2_calc'], axis=1, inplace=True)\n",
      "C:\\Users\\suzielee\\AppData\\Local\\Temp\\ipykernel_4272\\1819562445.py:4: SettingWithCopyWarning: \n",
      "A value is trying to be set on a copy of a slice from a DataFrame\n",
      "\n",
      "See the caveats in the documentation: https://pandas.pydata.org/pandas-docs/stable/user_guide/indexing.html#returning-a-view-versus-a-copy\n",
      "  BMI.rename(columns={'Result1_calc': 'BMI_value'}, inplace=True)\n"
     ]
    },
    {
     "name": "stdout",
     "output_type": "stream",
     "text": [
      "Overall Median of Aggregated BMI Values: 26.549999999999997\n",
      "IQR of Aggregated Median BMI Values: 7.899999999999999\n"
     ]
    }
   ],
   "source": [
    "Exam = pd.read_csv(\"Z:\\Ferretin Project\\Ferritin Project\\Exam.csv\")\n",
    "BMI = Exam[Exam['Exam1_calc'] == \"BMI\"]\n",
    "BMI.drop(['Exam2_calc', 'Result2_calc'], axis=1, inplace=True)\n",
    "BMI.rename(columns={'Result1_calc': 'BMI_value'}, inplace=True)\n",
    "\n",
    "#Filtering BMI values within the range of 10 and 80 because outside of that might be false data\n",
    "BMI = BMI[(BMI['BMI_value'] >= 10) & (BMI['BMI_value'] <= 80)]\n",
    "BMI.reset_index(drop=True, inplace=True)\n",
    "BMI['DateCreated'] = pd.to_datetime(BMI['DateCreated'])\n",
    "BMI['YearCreated'] = BMI['DateCreated'].dt.year\n",
    "\n",
    "#Merging on YearCreated to capture the most closest correlation between ID status & BMI in the same year. Also making sure BMI per unique patient, so that certain patients are not overrepressented in data due to multiple encounters.\n",
    "BMI_merge = pd.merge(ferritin_lab_short, BMI[['Patient_ID', 'YearCreated', 'BMI_value']], on=['Patient_ID', 'YearCreated'], how='left')\n",
    "median_bmi_per_patient_year = BMI_merge.groupby(['Patient_ID', 'YearCreated'])['BMI_value'].median().reset_index()\n",
    "#Median BMI aggregate per unique patient across all years\n",
    "median_bmi_per_patient = median_bmi_per_patient_year.groupby('Patient_ID')['BMI_value'].median().reset_index()\n",
    "#Overall median of the aggregated BMI values\n",
    "overall_median_bmi = median_bmi_per_patient['BMI_value'].median()\n",
    "\n",
    "Q1 = median_bmi_per_patient['BMI_value'].quantile(0.25)\n",
    "Q3 = median_bmi_per_patient['BMI_value'].quantile(0.75)\n",
    "IQR = Q3 - Q1\n",
    "\n",
    "print(\"Overall Median of Aggregated BMI Values:\", overall_median_bmi)\n",
    "print(\"IQR of Aggregated Median BMI Values:\", IQR)\n"
   ]
  },
  {
   "cell_type": "code",
   "execution_count": 13,
   "id": "7a1b1ac8",
   "metadata": {},
   "outputs": [
    {
     "name": "stdout",
     "output_type": "stream",
     "text": [
      "   Patient_ID  matdeptotal     Sex  Site_ID TestResult_calc DateCreated  \\\n",
      "0   100000016          1.0    Male        4           290.0  2018-03-26   \n",
      "1   100000016          1.0    Male        4           315.0  2022-01-25   \n",
      "2   100000016          1.0    Male        4           367.0  2014-11-24   \n",
      "3   100000033          3.3  Female        1            35.0  2013-12-11   \n",
      "4   100000054          5.0    Male        1            50.0  2010-03-31   \n",
      "\n",
      "   YearCreated  Age  \n",
      "0         2018   52  \n",
      "1         2022   56  \n",
      "2         2014   49  \n",
      "3         2013    6  \n",
      "4         2010   60  \n"
     ]
    }
   ],
   "source": [
    "depr = pd.read_csv(\"Z:\\Ferretin Project\\Ferritin Project\\Deprivation.csv\")\n",
    "\n",
    "depr['mat1'] = (1*depr['MaterialQ1'])/100\n",
    "depr['mat2'] = (2 * depr['MaterialQ2']) / 100\n",
    "depr['mat3'] = (3 * depr['MaterialQ3']) / 100\n",
    "depr['mat4'] = (4 * depr['MaterialQ4']) / 100\n",
    "depr['mat5'] = (5 * depr['MaterialQ5']) / 100\n",
    "\n",
    "depr['matdeptotal'] = depr[['mat1', 'mat2', 'mat3', 'mat4', 'mat5']].sum(axis=1)\n",
    "\n",
    "dep_pt_merged = pd.merge(depr[['Patient_ID', 'matdeptotal']], ferritin_lab_short, on = \"Patient_ID\", how = 'inner')\n",
    "print(dep_pt_merged.head())"
   ]
  },
  {
   "cell_type": "code",
   "execution_count": 14,
   "id": "085a8a1b",
   "metadata": {},
   "outputs": [
    {
     "name": "stdout",
     "output_type": "stream",
     "text": [
      "mean        2.337259\n",
      "median      2.000000\n",
      "std         1.322943\n",
      "quantile    2.000000\n",
      "max         5.000000\n",
      "min         0.000000\n",
      "Name: matdeptotal, dtype: float64\n"
     ]
    }
   ],
   "source": [
    "unique_SES_pt = dep_pt_merged.drop_duplicates(subset='Patient_ID')\n",
    "summary_stats = unique_SES_pt['matdeptotal'].agg(['mean', 'median', 'std', 'quantile', 'max', 'min'])\n",
    "print(summary_stats)\n"
   ]
  },
  {
   "cell_type": "code",
   "execution_count": 15,
   "id": "52bb9020",
   "metadata": {},
   "outputs": [
    {
     "name": "stdout",
     "output_type": "stream",
     "text": [
      "mean        2.337259\n",
      "median      2.000000\n",
      "std         1.322943\n",
      "<lambda>    2.420000\n",
      "max         5.000000\n",
      "min         0.000000\n",
      "Name: matdeptotal, dtype: float64\n"
     ]
    }
   ],
   "source": [
    "unique_SES_pt = dep_pt_merged.drop_duplicates(subset='Patient_ID')\n",
    "summary_stats = unique_SES_pt['matdeptotal'].agg([\n",
    "    'mean', \n",
    "    'median', \n",
    "    'std', \n",
    "    lambda x: x.quantile(0.75) - x.quantile(0.25), \n",
    "    'max', \n",
    "    'min'\n",
    "])\n",
    "print(summary_stats)\n"
   ]
  },
  {
   "cell_type": "code",
   "execution_count": 16,
   "id": "b766a3a9",
   "metadata": {},
   "outputs": [
    {
     "name": "stdout",
     "output_type": "stream",
     "text": [
      "unique_patients_age 94264\n",
      "unique_SES 82682\n",
      "82682\n",
      "patient_demo_rural 94264\n",
      "94264\n",
      "BMI 69721\n",
      "94264\n"
     ]
    }
   ],
   "source": [
    "unique_patients_with_age = ferritin_lab_short[ferritin_lab_short['Age'].notna()]['Patient_ID'].nunique()\n",
    "print(\"unique_patients_age\", unique_patients_with_age)\n",
    "print(\"unique_SES\", unique_SES_pt[unique_SES_pt['matdeptotal'].notna()]['Patient_ID'].nunique())\n",
    "print(unique_SES_pt['Patient_ID'].nunique())\n",
    "print(\"patient_demo_rural\", patient_demo_rural[patient_demo_rural['UrbanRural'].notna()]['Patient_ID'].nunique())\n",
    "print(patient_demo_rural['Patient_ID'].nunique())\n",
    "print(\"BMI\", BMI_merge[BMI_merge['BMI_value'].notna()]['Patient_ID'].nunique())\n",
    "print(BMI_merge['Patient_ID'].nunique())\n"
   ]
  },
  {
   "cell_type": "code",
   "execution_count": null,
   "id": "1f27cb34",
   "metadata": {},
   "outputs": [],
   "source": []
  }
 ],
 "metadata": {
  "kernelspec": {
   "display_name": "Python 3 (ipykernel)",
   "language": "python",
   "name": "python3"
  },
  "language_info": {
   "codemirror_mode": {
    "name": "ipython",
    "version": 3
   },
   "file_extension": ".py",
   "mimetype": "text/x-python",
   "name": "python",
   "nbconvert_exporter": "python",
   "pygments_lexer": "ipython3",
   "version": "3.11.4"
  }
 },
 "nbformat": 4,
 "nbformat_minor": 5
}
